{
 "cells": [
  {
   "cell_type": "code",
   "execution_count": 1,
   "metadata": {},
   "outputs": [],
   "source": [
    "import pandas as pd\n",
    "import numpy as np\n",
    "import random\n",
    "from sentence_transformers import SentenceTransformer, util"
   ]
  },
  {
   "cell_type": "code",
   "execution_count": 26,
   "metadata": {},
   "outputs": [],
   "source": [
    "transformer=SentenceTransformer('paraphrase-multilingual-MiniLM-L12-v2')\n",
    "def pick_random_question(df):\n",
    "    length=len(df)-1\n",
    "    index=random.randint(0,length)\n",
    "    return index, df.iloc[index]\n",
    "def get_tensor(sentence):\n",
    "#     transformer=SentenceTransformer('paraphrase-multilingual-MiniLM-L12-v2')\n",
    "    return transformer.encode(sentence,convert_to_tensor=True)\n",
    "def compare_tensors(solution,answer):\n",
    "    answer_tensor=get_tensor(answer)\n",
    "    cosine_score = util.pytorch_cos_sim(solution, answer_tensor)\n",
    "    return cosine_score.tolist()[0]\n",
    "def get_answer_string(score):\n",
    "    if score >=0.5:\n",
    "        return 'Gut gemacht! Die Ähnlichkeit zur Musterlösung beträgt {}'.format(score)\n",
    "    else:\n",
    "        return 'Schade! Die Ähnlichkeit zur Musterlösung beträgt nur {}'.format(score)"
   ]
  }
 ],
 "metadata": {
  "jupytext": {
   "formats": "ipynb,py:light"
  },
  "kernelspec": {
   "display_name": "Python 3",
   "language": "python",
   "name": "python3"
  },
  "language_info": {
   "codemirror_mode": {
    "name": "ipython",
    "version": 3
   },
   "file_extension": ".py",
   "mimetype": "text/x-python",
   "name": "python",
   "nbconvert_exporter": "python",
   "pygments_lexer": "ipython3",
   "version": "3.7.6"
  }
 },
 "nbformat": 4,
 "nbformat_minor": 4
}
