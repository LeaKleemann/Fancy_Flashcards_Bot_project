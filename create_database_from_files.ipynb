{
 "cells": [
  {
   "cell_type": "code",
   "execution_count": 1,
   "metadata": {},
   "outputs": [],
   "source": [
    "import sqlalchemy\n",
    "import pandas as pd\n",
    "from sentence_transformers import SentenceTransformer, util\n",
    "import pathlib2 as pathlib\n",
    "import numpy as np\n",
    "import json\n",
    "from sqlalchemy import create_engine"
   ]
  },
  {
   "cell_type": "code",
   "execution_count": 2,
   "metadata": {},
   "outputs": [],
   "source": [
    "cwd=pathlib.Path().cwd()\n",
    "data_path=cwd.joinpath('wirtschaftsinformatik-main')\n",
    "db_file=cwd.joinpath('cards.db')"
   ]
  },
  {
   "cell_type": "code",
   "execution_count": 3,
   "metadata": {},
   "outputs": [],
   "source": [
    "# transformer=SentenceTransformer('paraphrase-multilingual-MiniLM-L12-v2')\n",
    "# model = SentenceTransformer('paraphrase-MiniLM-L12-v2')\n",
    "transformer=SentenceTransformer('paraphrase-multilingual-MiniLM-L12-v2')\n",
    "def get_tensor(sentence):\n",
    "    return transformer.encode(sentence,convert_to_tensor=True)\n",
    "# def encode_questions(df):\n",
    "#     df['q_tensor']=df.q.transform(get_tensor)\n",
    "#     return df\n",
    "# def encode_answers(df):\n",
    "#     df['a_tensor']=df.a.transform(get_tensor)\n",
    "#     return df\n",
    "def read_json_files(deck_files):\n",
    "    frames=[]\n",
    "    for file in deck_files:\n",
    "    #     print(file)\n",
    "        topic=file.stem\n",
    "        with open(file,encoding='utf-8') as f:\n",
    "            data = json.load(f)\n",
    "        decks=data['decks']\n",
    "        for deck in decks:\n",
    "    #         print(deck)\n",
    "            cards=decks[deck]['cards']\n",
    "            df=pd.DataFrame(cards)\n",
    "            df=df.transpose()\n",
    "            df=df.assign(topic=[topic for x in range(len(df.index))],deck=[deck for x in range(len(df.index))])\n",
    "    #         df['topic']=pd.Series([topic for x in range(len(df.index))], index=df.index)\n",
    "    #         df['deck']=pd.Series([deck for x in range(len(df.index))], index=df.index)\n",
    "            df['q_tensor']=df.q.transform(get_tensor)\n",
    "            df['a_tensor']=df.a.transform(get_tensor)\n",
    "            frames.append(df)\n",
    "            print('deck finished:',deck)\n",
    "        print('topic finished:',topic)\n",
    "    dataframe=pd.concat(frames,axis=0)\n",
    "    return dataframe"
   ]
  },
  {
   "cell_type": "code",
   "execution_count": 11,
   "metadata": {},
   "outputs": [],
   "source": []
  },
  {
   "cell_type": "code",
   "execution_count": 13,
   "metadata": {},
   "outputs": [
    {
     "name": "stdout",
     "output_type": "stream",
     "text": [
      "deck finished: d1\n",
      "topic finished: business-intelligence\n"
     ]
    }
   ],
   "source": [
    "deck_files=list(data_path.glob(r'*.json'))\n",
    "test=[]\n",
    "test.append(deck_files[0])\n",
    "dataframe=read_json_files(test)"
   ]
  },
  {
   "cell_type": "code",
   "execution_count": 14,
   "metadata": {},
   "outputs": [],
   "source": [
    "engine = create_engine('sqlite:///'+db_file.as_posix(), echo=False)\n",
    "\n",
    "dataframe['q_tensor']=dataframe.q_tensor.transform(lambda x: x.tolist())\n",
    "dataframe['a_tensor']=dataframe.q_tensor.transform(lambda x: x.tolist())\n",
    "\n",
    "dataframe = dataframe.applymap(str)\n",
    "\n",
    "dataframe.to_sql('cards', con=engine,if_exists='replace')\n",
    "dataframe.to_csv('data.csv',sep=';',index=False)"
   ]
  }
 ],
 "metadata": {
  "jupytext": {
   "formats": "ipynb,py:light"
  },
  "kernelspec": {
   "display_name": "Python 3",
   "language": "python",
   "name": "python3"
  },
  "language_info": {
   "codemirror_mode": {
    "name": "ipython",
    "version": 3
   },
   "file_extension": ".py",
   "mimetype": "text/x-python",
   "name": "python",
   "nbconvert_exporter": "python",
   "pygments_lexer": "ipython3",
   "version": "3.7.6"
  }
 },
 "nbformat": 4,
 "nbformat_minor": 4
}
