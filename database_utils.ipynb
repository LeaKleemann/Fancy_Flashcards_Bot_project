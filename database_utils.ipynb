{
 "cells": [
  {
   "cell_type": "code",
   "execution_count": 10,
   "metadata": {},
   "outputs": [],
   "source": [
    "from sqlalchemy import create_engine\n",
    "import pandas as pd\n",
    "import pathlib2 as pathlib\n",
    "import torch"
   ]
  },
  {
   "cell_type": "code",
   "execution_count": 11,
   "metadata": {},
   "outputs": [],
   "source": [
    "cwd=pathlib.Path().cwd()\n",
    "db_file=cwd.joinpath('cards.db')"
   ]
  },
  {
   "cell_type": "code",
   "execution_count": 12,
   "metadata": {},
   "outputs": [],
   "source": [
    "engine = create_engine('sqlite:///'+db_file.as_posix(), echo=False)"
   ]
  },
  {
   "cell_type": "code",
   "execution_count": 72,
   "metadata": {},
   "outputs": [],
   "source": [
    "def create_query(topic):\n",
    "    query='''SELECT * FROM cards WHERE topic=\"{}\"'''.format(topic)\n",
    "    return query\n",
    "def transform_to_tensor(l):\n",
    "    translation_table = dict.fromkeys(map(ord, '[] '), None)\n",
    "    l=l.translate(translation_table)\n",
    "    l=l.split(',')\n",
    "    l=[float(x) for x in l]\n",
    "    return torch.FloatTensor(l)\n",
    "def read_data(engine,topic):\n",
    "    q=create_query(topic)\n",
    "    query=pd.read_sql_query(create_query(topic), con=engine)\n",
    "    df = pd.DataFrame(query)\n",
    "    df['q_tensor']=df.q_tensor.transform(transform_to_tensor)\n",
    "    df['a_tensor']=df.a_tensor.transform(transform_to_tensor)\n",
    "    return df"
   ]
  }
 ],
 "metadata": {
  "jupytext": {
   "formats": "ipynb,py:light"
  },
  "kernelspec": {
   "display_name": "Python 3",
   "language": "python",
   "name": "python3"
  },
  "language_info": {
   "codemirror_mode": {
    "name": "ipython",
    "version": 3
   },
   "file_extension": ".py",
   "mimetype": "text/x-python",
   "name": "python",
   "nbconvert_exporter": "python",
   "pygments_lexer": "ipython3",
   "version": "3.7.6"
  }
 },
 "nbformat": 4,
 "nbformat_minor": 4
}
